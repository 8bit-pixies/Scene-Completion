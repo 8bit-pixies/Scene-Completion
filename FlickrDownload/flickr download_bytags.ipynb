{
 "cells": [
  {
   "cell_type": "code",
   "execution_count": 23,
   "metadata": {
    "collapsed": true
   },
   "outputs": [],
   "source": [
    "import flickr\n",
    "import urllib, urlparse\n",
    "import os\n",
    "import sys\n",
    "\n",
    "# http://halotis.com/download-images-from-flickr-with-python/"
   ]
  },
  {
   "cell_type": "code",
   "execution_count": 24,
   "metadata": {
    "collapsed": true
   },
   "outputs": [],
   "source": [
    "tag = 'trams'"
   ]
  },
  {
   "cell_type": "code",
   "execution_count": 2,
   "metadata": {
    "collapsed": false
   },
   "outputs": [
    {
     "name": "stdout",
     "output_type": "stream",
     "text": [
      "23001352210_fcf1cedb23_b.jpg\n",
      "22976394230_b0c3c0c490_b.jpg\n",
      "22929273119_680f31298d_b.jpg\n",
      "23001371330_71c15d54f3_b.jpg\n",
      "23297173015_d5b883bba8_b.jpg\n",
      "23271065396_fe7cdddac7_b.jpg\n",
      "23214561421_1c748d2edd_b.jpg\n",
      "23001358670_f4b222605f_b.jpg\n",
      "23188804082_4f295ef3bd_b.jpg\n",
      "22928934759_c30f711f04_b.jpg\n",
      "23270893016_70940c5509_b.jpg\n",
      "22668568424_8e2be2ef4e_b.jpg\n",
      "22669790303_6ccfcfce1c_b.jpg\n",
      "22668435804_098777b609_b.jpg\n",
      "22928866439_1eced45939_b.jpg\n",
      "23000942720_1d08deb5c7_b.jpg\n",
      "23252121846_500287152d_b.jpg\n",
      "22904288649_0233a73569_b.jpg\n",
      "22976393250_dcbd8545b5_b.jpg\n",
      "22403257298_cf99b2dd44_b.jpg\n"
     ]
    }
   ],
   "source": [
    "#!/usr/bin/env python\n",
    "\"\"\"Usage: python flickrDownload.py TAGS\n",
    "TAGS is a space delimited list of tags\n",
    " \n",
    "Created by Matt Warren on 2009-09-08.\n",
    "Copyright (c) 2009 HalOtis.com. All rights reserved.\n",
    "\"\"\"\n",
    "import sys\n",
    "import shutil\n",
    "import urllib\n",
    " \n",
    "import flickr\n",
    " \n",
    "NUMBER_OF_IMAGES = 20\n",
    " \n",
    "#this is slow\n",
    "def get_urls_for_tags(tags, number):\n",
    "    photos = flickr.photos_search(tags=tags, tag_mode='all', per_page=number)\n",
    "    urls = []\n",
    "    for photo in photos:\n",
    "        try:\n",
    "            urls.append(photo.getURL(size='Large', urlType='source'))\n",
    "        except:\n",
    "            continue\n",
    "    return urls\n",
    " \n",
    "def download_images(urls):\n",
    "    for url in urls:\n",
    "        file, mime = urllib.urlretrieve(url)\n",
    "        name = url.split('/')[-1]\n",
    "        print name\n",
    "        shutil.copy(file, './'+name)\n",
    "    return None\n",
    " \n",
    "tags = ['dog']\n",
    "\n",
    "urls = get_urls_for_tags(tags, NUMBER_OF_IMAGES)\n",
    "download_images(urls)"
   ]
  }
 ],
 "metadata": {
  "kernelspec": {
   "display_name": "Python 2",
   "language": "python",
   "name": "python2"
  },
  "language_info": {
   "codemirror_mode": {
    "name": "ipython",
    "version": 2
   },
   "file_extension": ".py",
   "mimetype": "text/x-python",
   "name": "python",
   "nbconvert_exporter": "python",
   "pygments_lexer": "ipython2",
   "version": "2.7.10"
  }
 },
 "nbformat": 4,
 "nbformat_minor": 0
}
